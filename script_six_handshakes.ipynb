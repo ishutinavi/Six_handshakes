{
  "nbformat": 4,
  "nbformat_minor": 0,
  "metadata": {
    "colab": {
      "provenance": [],
      "authorship_tag": "ABX9TyOc9wD6k2JYt/t2fm6wOG9C",
      "include_colab_link": true
    },
    "kernelspec": {
      "name": "python3",
      "display_name": "Python 3"
    },
    "language_info": {
      "name": "python"
    }
  },
  "cells": [
    {
      "cell_type": "markdown",
      "metadata": {
        "id": "view-in-github",
        "colab_type": "text"
      },
      "source": [
        "<a href=\"https://colab.research.google.com/github/ishutinavi/Six_handshakes/blob/main/script_six_handshakes.ipynb\" target=\"_parent\"><img src=\"https://colab.research.google.com/assets/colab-badge.svg\" alt=\"Open In Colab\"/></a>"
      ]
    },
    {
      "cell_type": "code",
      "source": [
        "import requests\n",
        "from bs4 import BeautifulSoup\n",
        "import time\n",
        "\n",
        "\n",
        "def is_correct_language(url, expected_language):\n",
        "    return url.startswith(f\"https://{expected_language}.wikipedia.org\")\n",
        "\n",
        "\n",
        "def get_wikipedia_links(url, base_url, expected_language):\n",
        "    try:\n",
        "        response = requests.get(url)\n",
        "        response.raise_for_status()\n",
        "        soup = BeautifulSoup(response.text, 'html.parser')\n",
        "\n",
        "        links = set()\n",
        "        for a in soup.select('div.mw-parser-output a[href^=\"/wiki/\"]'):\n",
        "            href = a.get('href')\n",
        "            if \":\" not in href:\n",
        "                full_url = base_url + href\n",
        "                if is_correct_language(full_url, expected_language):\n",
        "                    links.add(full_url)\n",
        "\n",
        "        return links\n",
        "    except requests.exceptions.RequestException as e:\n",
        "        return set()\n",
        "\n",
        "\n",
        "def find_first_path(start_url, target_url, rate_limit):\n",
        "    # Определяем язык на основе доменов\n",
        "    start_language = start_url.split(\"//\")[1].split(\".\")[0]\n",
        "    target_language = target_url.split(\"//\")[1].split(\".\")[0]\n",
        "\n",
        "    if start_language != target_language:\n",
        "        print(\"Языки начального и конечного URL не совпадают.\")\n",
        "        return None\n",
        "\n",
        "    visited = set()\n",
        "    stack = [(start_url, [start_url])]\n",
        "    requests_made = 0\n",
        "\n",
        "    while stack:\n",
        "        current_url, path = stack.pop()\n",
        "\n",
        "        if current_url == target_url:\n",
        "            return path\n",
        "\n",
        "        if len(path) >= 5:\n",
        "            continue\n",
        "\n",
        "        if current_url not in visited:\n",
        "            visited.add(current_url)\n",
        "            links = get_wikipedia_links(current_url, base_url=f\"https://{start_language}.wikipedia.org\", expected_language=start_language)\n",
        "            requests_made += 1\n",
        "\n",
        "            if requests_made >= rate_limit:\n",
        "                time.sleep(1)\n",
        "                requests_made = 0\n",
        "\n",
        "            for link in links:\n",
        "                if link not in visited:\n",
        "                    stack.append((link, path + [link]))\n",
        "\n",
        "    return None\n",
        "\n",
        "\n",
        "def main():\n",
        "    # Получение входных данных от пользователя\n",
        "    url1 = input(\"Введите начальный URL (например, https://en.wikipedia.org/wiki/Example): \")\n",
        "    url2 = input(\"Введите конечный URL (например, https://en.wikipedia.org/wiki/Another_Example): \")\n",
        "    rate_limit = int(input(\"Введите лимит запросов на 1 секунду: \"))\n",
        "\n",
        "    print(\"Поиск пути от url1 к url2\")\n",
        "    path1 = find_first_path(url1, url2, rate_limit)\n",
        "    if path1:\n",
        "        print(f\"Путь от {url1} к {url2}:\")\n",
        "        print(\" -> \".join(path1))\n",
        "    else:\n",
        "        print(f\"Путь от {url1} к {url2} не найден за 5 шагов.\")\n",
        "\n",
        "    print(\"Поиск пути от url2 к url1\")\n",
        "    path2 = find_first_path(url2, url1, rate_limit)\n",
        "    if path2:\n",
        "        print(f\"Путь от {url2} к {url1}:\")\n",
        "        print(\" -> \".join(path2))\n",
        "    else:\n",
        "        print(f\"Путь от {url2} к {url1} не найден за 5 шагов.\")\n",
        "\n",
        "    if path1 and path2:\n",
        "        print(\"Теория шести рукопожатий подтверждается для выбранных статей.\")\n",
        "    else:\n",
        "        print(\"Теория шести рукопожатий не подтверждается для выбранных статей.\")\n",
        "\n",
        "\n",
        "if __name__ == \"__main__\":\n",
        "    main()"
      ],
      "metadata": {
        "colab": {
          "base_uri": "https://localhost:8080/"
        },
        "id": "SiCAKyqbFYRk",
        "outputId": "8ed84db9-ef91-421e-aa86-b1391a9d332f"
      },
      "execution_count": 9,
      "outputs": [
        {
          "output_type": "stream",
          "name": "stdout",
          "text": [
            "Введите начальный URL (например, https://en.wikipedia.org/wiki/Example): https://en.wikipedia.org/wiki/Six_degrees_of_separation\n",
            "Введите конечный URL (например, https://en.wikipedia.org/wiki/Another_Example): https://en.wikipedia.org/wiki/American_Broadcasting_Company\n",
            "Введите лимит запросов на 1 секунду: 10\n",
            "Поиск пути от url1 к url2\n",
            "Путь от https://en.wikipedia.org/wiki/Six_degrees_of_separation к https://en.wikipedia.org/wiki/American_Broadcasting_Company:\n",
            "https://en.wikipedia.org/wiki/Six_degrees_of_separation -> https://en.wikipedia.org/wiki/Small-world_experiment -> https://en.wikipedia.org/wiki/Mark_Granovetter -> https://en.wikipedia.org/wiki/Johns_Hopkins_University -> https://en.wikipedia.org/wiki/American_Broadcasting_Company\n",
            "Поиск пути от url2 к url1\n",
            "Путь от https://en.wikipedia.org/wiki/American_Broadcasting_Company к https://en.wikipedia.org/wiki/Six_degrees_of_separation:\n",
            "https://en.wikipedia.org/wiki/American_Broadcasting_Company -> https://en.wikipedia.org/wiki/Hulu -> https://en.wikipedia.org/wiki/Stickam -> https://en.wikipedia.org/wiki/Myspace -> https://en.wikipedia.org/wiki/Six_degrees_of_separation\n",
            "Теория шести рукопожатий подтверждается для выбранных статей.\n"
          ]
        }
      ]
    }
  ]
}